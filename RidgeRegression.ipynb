{
 "cells": [
  {
   "cell_type": "code",
   "execution_count": 23,
   "metadata": {
    "scrolled": true
   },
   "outputs": [
    {
     "name": "stderr",
     "output_type": "stream",
     "text": [
      "C:\\Users\\DavidH\\Anaconda3\\lib\\site-packages\\ipykernel_launcher.py:13: FutureWarning: reshape is deprecated and will raise in a subsequent release. Please use .values.reshape(...) instead\n",
      "  del sys.path[0]\n"
     ]
    },
    {
     "data": {
      "image/png": "[encoded data removed]",
      "text/plain": [
       "<matplotlib.figure.Figure at 0x24e7bd7ec50>"
      ]
     },
     "metadata": {},
     "output_type": "display_data"
    }
   ],
   "source": [
    "#import modules\n",
    "import pandas as pd\n",
    "import numpy as np\n",
    "import matplotlib.pyplot as plt\n",
    "from sklearn.linear_model import Ridge\n",
    "from sklearn.model_selection import cross_val_score\n",
    "\n",
    "#Read the CSV file into a DataFrame\n",
    "df = pd.read_csv('gm_2008_region.csv')\n",
    "\n",
    "#Define X, y\n",
    "y = df['life']\n",
    "y = y.reshape(-1, 1)\n",
    "X = df.drop('life', axis=1).drop('Region', axis=1)\n",
    "\n",
    "#Setup the array of alphas and lists to store scores\n",
    "alpha_space = np.logspace(-4, 0, 50)\n",
    "ridge_scores = []\n",
    "ridge_scores_std = []\n",
    "\n",
    "#Create a ridge regressor\n",
    "ridge = Ridge(normalize=True)\n",
    "\n",
    "#Compute scores over range of alphas\n",
    "for alpha in alpha_space:\n",
    "\n",
    "    #Use this alpha for our ridge regression\n",
    "    ridge.alpha = alpha\n",
    "    \n",
    "    #Perform 10-fold CV\n",
    "    ridge_cv_scores = cross_val_score(ridge, X, y, cv=10)\n",
    "    \n",
    "    # Append the mean of ridge_cv_scores to ridge_scores\n",
    "    ridge_scores.append(np.mean(ridge_cv_scores))\n",
    "    \n",
    "    # Append the std of ridge_cv_scores to ridge_scores_std\n",
    "    ridge_scores_std.append(np.std(ridge_cv_scores))\n",
    "\n",
    "#Define plot function\n",
    "def display_plot(cv_scores, cv_scores_std):\n",
    "    fig = plt.figure()\n",
    "    #First plot in 1*1 grid\n",
    "    ax = fig.add_subplot(1,1,1)\n",
    "    #Axes of the plot\n",
    "    ax.plot(alpha_space, cv_scores)\n",
    "\n",
    "    #Compute std error\n",
    "    std_error = cv_scores_std / np.sqrt(10)\n",
    "\n",
    "    #Color the interval between cv_scores +/- std_error\n",
    "    ax.fill_between(alpha_space, cv_scores + std_error, cv_scores - std_error, alpha=0.2)\n",
    "    #Setting labels\n",
    "    ax.set_ylabel('CV Score +/- Std Error')\n",
    "    ax.set_xlabel('Alpha')\n",
    "    #Mark the max score\n",
    "    ax.axhline(np.max(cv_scores), linestyle='--', color='.5')\n",
    "    #Plot settings\n",
    "    ax.set_xlim([alpha_space[0], alpha_space[-1]])\n",
    "    ax.set_xscale('log')\n",
    "    plt.show()    \n",
    "\n",
    "# Display the plot\n",
    "display_plot(ridge_scores, ridge_scores_std)"
   ]
  }
 ],
 "metadata": {
  "kernelspec": {
   "display_name": "Python 3",
   "language": "python",
   "name": "python3"
  },
  "language_info": {
   "codemirror_mode": {
    "name": "ipython",
    "version": 3
   },
   "file_extension": ".py",
   "mimetype": "text/x-python",
   "name": "python",
   "nbconvert_exporter": "python",
   "pygments_lexer": "ipython3",
   "version": "3.6.3"
  }
 },
 "nbformat": 4,
 "nbformat_minor": 2
}
