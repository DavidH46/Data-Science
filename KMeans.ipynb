{
 "cells": [
  {
   "cell_type": "code",
   "execution_count": 6,
   "metadata": {},
   "outputs": [
    {
     "name": "stdout",
     "output_type": "stream",
     "text": [
      "varieties  Barbera  Barolo  Grignolino\n",
      "labels                                \n",
      "0                0      59           3\n",
      "1               48       0           3\n",
      "2                0       0          65\n"
     ]
    }
   ],
   "source": [
    "#import modules\n",
    "import pandas as pd\n",
    "import numpy as np\n",
    "import matplotlib.pyplot as plt\n",
    "from sklearn.preprocessing import StandardScaler\n",
    "from sklearn.cluster import KMeans\n",
    "from sklearn.pipeline import make_pipeline \n",
    "\n",
    "#Read the CSV file into a DataFrame\n",
    "df = pd.read_csv('wine.csv')\n",
    "#Save class_name to varieties for further use\n",
    "varieties = df['class_name']\n",
    "#Drop columns\n",
    "df = df.drop(['class_label', 'class_name'], axis=1)\n",
    "\n",
    "#Create scaler\n",
    "scaler = StandardScaler()\n",
    "\n",
    "#Create KMeans\n",
    "kmeans = KMeans(n_clusters=3)\n",
    "\n",
    "#Fit scaler and KMeans into pipeline\n",
    "pipeline = make_pipeline(scaler, kmeans)\n",
    "\n",
    "#Fit & Predict the data\n",
    "pipeline.fit(df)\n",
    "labels = pipeline.predict(df)\n",
    "\n",
    "#Use crosstab to verify our clustering performance\n",
    "df = pd.DataFrame({'labels': labels, 'varieties': varieties}) \n",
    "ct = pd.crosstab(df['labels'], df['varieties']) \n",
    "print(ct)"
   ]
  }
 ],
 "metadata": {
  "kernelspec": {
   "display_name": "Python 3",
   "language": "python",
   "name": "python3"
  },
  "language_info": {
   "codemirror_mode": {
    "name": "ipython",
    "version": 3
   },
   "file_extension": ".py",
   "mimetype": "text/x-python",
   "name": "python",
   "nbconvert_exporter": "python",
   "pygments_lexer": "ipython3",
   "version": "3.6.3"
  }
 },
 "nbformat": 4,
 "nbformat_minor": 2
}
