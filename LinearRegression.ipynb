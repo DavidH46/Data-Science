{
 "cells": [
  {
   "cell_type": "code",
   "execution_count": 8,
   "metadata": {
    "scrolled": false
   },
   "outputs": [
    {
     "name": "stdout",
     "output_type": "stream",
     "text": [
      "<class 'pandas.core.frame.DataFrame'>\n",
      "RangeIndex: 139 entries, 0 to 138\n",
      "Data columns (total 10 columns):\n",
      "population         139 non-null float64\n",
      "fertility          139 non-null float64\n",
      "HIV                139 non-null float64\n",
      "CO2                139 non-null float64\n",
      "BMI_male           139 non-null float64\n",
      "GDP                139 non-null float64\n",
      "BMI_female         139 non-null float64\n",
      "life               139 non-null float64\n",
      "child_mortality    139 non-null float64\n",
      "Region             139 non-null object\n",
      "dtypes: float64(9), object(1)\n",
      "memory usage: 10.9+ KB\n",
      "None\n",
      "*****************************************\n",
      "         population   fertility         HIV         CO2    BMI_male  \\\n",
      "count  1.390000e+02  139.000000  139.000000  139.000000  139.000000   \n",
      "mean   3.549977e+07    3.005108    1.915612    4.459874   24.623054   \n",
      "std    1.095121e+08    1.615354    4.408974    6.268349    2.209368   \n",
      "min    2.773150e+05    1.280000    0.060000    0.008618   20.397420   \n",
      "25%    3.752776e+06    1.810000    0.100000    0.496190   22.448135   \n",
      "50%    9.705130e+06    2.410000    0.400000    2.223796   25.156990   \n",
      "75%    2.791973e+07    4.095000    1.300000    6.589156   26.497575   \n",
      "max    1.197070e+09    7.590000   25.900000   48.702062   28.456980   \n",
      "\n",
      "                 GDP  BMI_female        life  child_mortality  \n",
      "count     139.000000  139.000000  139.000000       139.000000  \n",
      "mean    16638.784173  126.701914   69.602878        45.097122  \n",
      "std     19207.299083    4.471997    9.122189        45.724667  \n",
      "min       588.000000  117.375500   45.200000         2.700000  \n",
      "25%      2899.000000  123.232200   62.200000         8.100000  \n",
      "50%      9938.000000  126.519600   72.000000        24.000000  \n",
      "75%     23278.500000  130.275900   76.850000        74.200000  \n",
      "max    126076.000000  135.492000   82.600000       192.000000  \n",
      "*****************************************\n",
      "   population  fertility  HIV        CO2  BMI_male      GDP  BMI_female  life  \\\n",
      "0  34811059.0       2.73  0.1   3.328945  24.59620  12314.0    129.9049  75.3   \n",
      "1  19842251.0       6.43  2.0   1.474353  22.25083   7103.0    130.1247  58.3   \n",
      "2  40381860.0       2.24  0.5   4.785170  27.50170  14646.0    118.8915  75.5   \n",
      "3   2975029.0       1.40  0.1   1.804106  25.35542   7383.0    132.8108  72.5   \n",
      "4  21370348.0       1.96  0.1  18.016313  27.56373  41312.0    117.3755  81.5   \n",
      "\n",
      "   child_mortality                      Region  \n",
      "0             29.5  Middle East & North Africa  \n",
      "1            192.0          Sub-Saharan Africa  \n",
      "2             15.4                     America  \n",
      "3             20.0       Europe & Central Asia  \n",
      "4              5.2         East Asia & Pacific  \n"
     ]
    },
    {
     "data": {
      "image/png": "[encoded data removed]",
      "text/plain": [
       "<matplotlib.figure.Figure at 0x23d0b6f2630>"
      ]
     },
     "metadata": {},
     "output_type": "display_data"
    },
    {
     "name": "stdout",
     "output_type": "stream",
     "text": [
      "0.729898736091\n",
      "[ 0.54471791  0.75586083  0.83921958  0.6900756   0.33991801  0.53042913\n",
      "  0.44784016  0.66619475  0.4439451   0.62573667]\n"
     ]
    },
    {
     "name": "stderr",
     "output_type": "stream",
     "text": [
      "C:\\Users\\DavidH\\Anaconda3\\lib\\site-packages\\ipykernel_launcher.py:30: FutureWarning: reshape is deprecated and will raise in a subsequent release. Please use .values.reshape(...) instead\n",
      "C:\\Users\\DavidH\\Anaconda3\\lib\\site-packages\\ipykernel_launcher.py:31: FutureWarning: reshape is deprecated and will raise in a subsequent release. Please use .values.reshape(...) instead\n"
     ]
    },
    {
     "data": {
      "image/png": "[encoded data removed]",
      "text/plain": [
       "<matplotlib.figure.Figure at 0x23d0b3ccb00>"
      ]
     },
     "metadata": {},
     "output_type": "display_data"
    }
   ],
   "source": [
    "#import modules\n",
    "import numpy as np\n",
    "import pandas as pd\n",
    "import seaborn as sns\n",
    "import matplotlib.pyplot as plt\n",
    "%matplotlib inline\n",
    "from sklearn.linear_model import LinearRegression\n",
    "from sklearn.model_selection import train_test_split\n",
    "from sklearn.model_selection import cross_val_score\n",
    "\n",
    "#Read the CSV file into a DataFrame\n",
    "df = pd.read_csv('gm_2008_region.csv')\n",
    "\n",
    "#Exploring the dataset\n",
    "print(df.info()) #df information\n",
    "print('*****************************************')\n",
    "print(df.describe()) #df statistic summary\n",
    "print('*****************************************')\n",
    "print(df.head())#first 5 elements\n",
    "\n",
    "#Use heatmap to find correlated column with life: fertility\n",
    "sns.heatmap(df.corr(), square=True, cmap='RdYlGn')\n",
    "plt.show()\n",
    "\n",
    "#Define X, y\n",
    "y = df['life']\n",
    "X = df['fertility']\n",
    "\n",
    "# Reshape X and y\n",
    "y = y.reshape(-1, 1)\n",
    "X = X.reshape(-1, 1)\n",
    "\n",
    "#Use Train_test split to split 30% of data for testing\n",
    "X_train, X_test, y_train, y_test = train_test_split(X, y, test_size = 0.3, random_state=42)\n",
    "\n",
    "#Create the model\n",
    "reg = LinearRegression()\n",
    "\n",
    "#Fit the model to the data\n",
    "reg.fit(X_train, y_train)\n",
    "\n",
    "#Predict on test set\n",
    "y_pred = reg.predict(X_test)\n",
    "\n",
    "#Print R^2 \n",
    "print(reg.score(X_test, y_test))\n",
    "\n",
    "#Cross validation\n",
    "cvscores = cross_val_score(reg, X, y, cv=10)\n",
    "print(cvscores)\n",
    "\n",
    "#Scatter plot shows negative correlation and the regression line\n",
    "plt.scatter(X, y)\n",
    "plt.plot(X_test, y_pred, color='black', linewidth=3)\n",
    "plt.show()"
   ]
  },
  {
   "cell_type": "code",
   "execution_count": null,
   "metadata": {
    "collapsed": true
   },
   "outputs": [],
   "source": []
  }
 ],
 "metadata": {
  "kernelspec": {
   "display_name": "Python 3",
   "language": "python",
   "name": "python3"
  },
  "language_info": {
   "codemirror_mode": {
    "name": "ipython",
    "version": 3
   },
   "file_extension": ".py",
   "mimetype": "text/x-python",
   "name": "python",
   "nbconvert_exporter": "python",
   "pygments_lexer": "ipython3",
   "version": "3.6.3"
  }
 },
 "nbformat": 4,
 "nbformat_minor": 2
}
